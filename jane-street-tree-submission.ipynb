{
 "cells": [
  {
   "cell_type": "code",
   "execution_count": 1,
   "metadata": {
    "execution": {
     "iopub.execute_input": "2021-02-22T22:27:06.551015Z",
     "iopub.status.busy": "2021-02-22T22:27:06.550290Z",
     "iopub.status.idle": "2021-02-22T22:27:12.746919Z",
     "shell.execute_reply": "2021-02-22T22:27:12.746310Z"
    },
    "papermill": {
     "duration": 6.209347,
     "end_time": "2021-02-22T22:27:12.747039",
     "exception": false,
     "start_time": "2021-02-22T22:27:06.537692",
     "status": "completed"
    },
    "tags": []
   },
   "outputs": [
    {
     "data": {
      "text/html": [
       "<style type='text/css'>\n",
       ".datatable table.frame { margin-bottom: 0; }\n",
       ".datatable table.frame thead { border-bottom: none; }\n",
       ".datatable table.frame tr.coltypes td {  color: #FFFFFF;  line-height: 6px;  padding: 0 0.5em;}\n",
       ".datatable .bool    { background: #DDDD99; }\n",
       ".datatable .object  { background: #565656; }\n",
       ".datatable .int     { background: #5D9E5D; }\n",
       ".datatable .float   { background: #4040CC; }\n",
       ".datatable .str     { background: #CC4040; }\n",
       ".datatable .row_index {  background: var(--jp-border-color3);  border-right: 1px solid var(--jp-border-color0);  color: var(--jp-ui-font-color3);  font-size: 9px;}\n",
       ".datatable .frame tr.coltypes .row_index {  background: var(--jp-border-color0);}\n",
       ".datatable th:nth-child(2) { padding-left: 12px; }\n",
       ".datatable .hellipsis {  color: var(--jp-cell-editor-border-color);}\n",
       ".datatable .vellipsis {  background: var(--jp-layout-color0);  color: var(--jp-cell-editor-border-color);}\n",
       ".datatable .na {  color: var(--jp-cell-editor-border-color);  font-size: 80%;}\n",
       ".datatable .footer { font-size: 9px; }\n",
       ".datatable .frame_dimensions {  background: var(--jp-border-color3);  border-top: 1px solid var(--jp-border-color0);  color: var(--jp-ui-font-color3);  display: inline-block;  opacity: 0.6;  padding: 1px 10px 1px 5px;}\n",
       "</style>\n"
      ],
      "text/plain": [
       "<IPython.core.display.HTML object>"
      ]
     },
     "metadata": {},
     "output_type": "display_data"
    }
   ],
   "source": [
    "import warnings\n",
    "warnings.filterwarnings('ignore')\n",
    "\n",
    "from xgboost import XGBRegressor\n",
    "import numpy as np\n",
    "from numba import njit\n",
    "import pandas as pd \n",
    "import os\n",
    "import janestreet\n",
    "import datatable as dt"
   ]
  },
  {
   "cell_type": "code",
   "execution_count": 2,
   "metadata": {
    "execution": {
     "iopub.execute_input": "2021-02-22T22:27:12.777817Z",
     "iopub.status.busy": "2021-02-22T22:27:12.772355Z",
     "iopub.status.idle": "2021-02-22T22:27:12.780834Z",
     "shell.execute_reply": "2021-02-22T22:27:12.781313Z"
    },
    "papermill": {
     "duration": 0.027727,
     "end_time": "2021-02-22T22:27:12.781434",
     "exception": false,
     "start_time": "2021-02-22T22:27:12.753707",
     "status": "completed"
    },
    "tags": []
   },
   "outputs": [],
   "source": [
    "features_to_drop=[\n",
    "'feature_27',\n",
    "'feature_28',\n",
    "'feature_18',\n",
    "'feature_17',\n",
    "'feature_7',\n",
    "'feature_8',\n",
    "'feature_84', \n",
    "'feature_78',\n",
    "'feature_72',\n",
    "'feature_96',\n",
    "'feature_114', \n",
    "'feature_90',\n",
    "'feature_108', \n",
    "'feature_102',\n",
    "'feature_32',\n",
    "'feature_31',\n",
    "'feature_22',\n",
    "'feature_21',\n",
    "'feature_12',\n",
    "'feature_11',\n",
    "'feature_120',\n",
    "'feature_121',\n",
    "'feature_55',\n",
    "'feature_74',\n",
    "'feature_116',\n",
    "'feature_104',\n",
    "'feature_98',\n",
    "'feature_92',\n",
    "'feature_110',\n",
    "'feature_80',\n",
    "'feature_86']\n",
    "\n",
    "features = [f'feature_{x}' for x in range(0,130) if f'feature_{x}' not in features_to_drop]\n",
    "\n",
    "no_zero_feature = [f for f in features if f != 'feature_0']\n",
    "\n",
    "columns_to_keep = features + ['weight','date','resp']\n",
    "\n",
    "columns_to_keep_test = features + ['weight']\n",
    "\n",
    "\n",
    "lower = 0\n",
    "upper = 10\n",
    "\n",
    "TARGET='resp'\n",
    "\n",
    "# Load data\n",
    "def get_data():\n",
    "    data = dt.fread('../input/jane-street-market-prediction/train.csv').to_pandas()[columns_to_keep]\n",
    "\n",
    "    data['linear_weights']=1.0 / data.groupby(\"date\")['resp'].std()[data.date].values\n",
    "    \n",
    "    data.dropna(inplace=True)\n",
    "    \n",
    "    return data"
   ]
  },
  {
   "cell_type": "code",
   "execution_count": 3,
   "metadata": {
    "execution": {
     "iopub.execute_input": "2021-02-22T22:27:12.801588Z",
     "iopub.status.busy": "2021-02-22T22:27:12.799820Z",
     "iopub.status.idle": "2021-02-22T22:27:12.802367Z",
     "shell.execute_reply": "2021-02-22T22:27:12.802830Z"
    },
    "papermill": {
     "duration": 0.015707,
     "end_time": "2021-02-22T22:27:12.802931",
     "exception": false,
     "start_time": "2021-02-22T22:27:12.787224",
     "status": "completed"
    },
    "tags": []
   },
   "outputs": [],
   "source": [
    "def tree_model():\n",
    "    train = get_data()\n",
    "\n",
    "    sample_weights_train = train['linear_weights'].values\n",
    "    \n",
    "    X_train = train[features].values\n",
    "    y_train = train[TARGET].values\n",
    "    \n",
    "    tree_params = {'tree_method':'gpu_hist', 'gpu_id':0,\n",
    "                   'learning_rate':0.05,'n_estimators':150,'n_jobs':-1,'verbose':False}\n",
    "    \n",
    "    tree_model = XGBRegressor(**tree_params).fit(X_train, y_train, sample_weight=sample_weights_train)\n",
    "    \n",
    "    return tree_model"
   ]
  },
  {
   "cell_type": "code",
   "execution_count": 4,
   "metadata": {
    "execution": {
     "iopub.execute_input": "2021-02-22T22:27:12.818871Z",
     "iopub.status.busy": "2021-02-22T22:27:12.818061Z",
     "iopub.status.idle": "2021-02-22T22:27:12.821038Z",
     "shell.execute_reply": "2021-02-22T22:27:12.820508Z"
    },
    "papermill": {
     "duration": 0.012578,
     "end_time": "2021-02-22T22:27:12.821165",
     "exception": false,
     "start_time": "2021-02-22T22:27:12.808587",
     "status": "completed"
    },
    "tags": []
   },
   "outputs": [],
   "source": [
    "@njit\n",
    "def any_nan(array):\n",
    "    return np.isnan(array.sum())"
   ]
  },
  {
   "cell_type": "code",
   "execution_count": 5,
   "metadata": {
    "execution": {
     "iopub.execute_input": "2021-02-22T22:27:12.844405Z",
     "iopub.status.busy": "2021-02-22T22:27:12.843627Z",
     "iopub.status.idle": "2021-02-22T22:32:02.866736Z",
     "shell.execute_reply": "2021-02-22T22:32:02.865729Z"
    },
    "papermill": {
     "duration": 290.039649,
     "end_time": "2021-02-22T22:32:02.866914",
     "exception": false,
     "start_time": "2021-02-22T22:27:12.827265",
     "status": "completed"
    },
    "tags": []
   },
   "outputs": [
    {
     "name": "stdout",
     "output_type": "stream",
     "text": [
      "[22:28:37] WARNING: ../src/learner.cc:516: \n",
      "Parameters: { verbose } might not be used.\n",
      "\n",
      "  This may not be accurate due to some parameters are only used in language bindings but\n",
      "  passed down to XGBoost core.  Or some parameters are not used but slip through this\n",
      "  verification. Please open an issue if you find above cases.\n",
      "\n",
      "\n"
     ]
    }
   ],
   "source": [
    "env = janestreet.make_env()\n",
    "iter_test = env.iter_test()\n",
    "\n",
    "tree_model = tree_model()\n",
    "\n",
    "for (test_df, sample_prediction_df) in iter_test:\n",
    "    \n",
    "    try:\n",
    "        b = any_nan(test_df.loc[:,columns_to_keep_test].values)\n",
    "        if not b:\n",
    "            w = test_df['weight'].item()\n",
    "            if w > lower and w < upper:\n",
    "                tree_resp_preds = tree_model.predict(test_df.loc[:,features].values)\n",
    "                \n",
    "                sample_prediction_df['action'] = (tree_resp_preds > 0).astype('int')\n",
    "            else:\n",
    "                sample_prediction_df['action'] = 0\n",
    "        else:\n",
    "            sample_prediction_df['action'] = 0\n",
    "    except:\n",
    "        sample_prediction_df['action'] = 0\n",
    "        env.predict(sample_prediction_df)\n",
    "        \n",
    "        continue\n",
    "        \n",
    "    env.predict(sample_prediction_df)"
   ]
  }
 ],
 "metadata": {
  "kernelspec": {
   "display_name": "Python 3",
   "language": "python",
   "name": "python3"
  },
  "language_info": {
   "codemirror_mode": {
    "name": "ipython",
    "version": 3
   },
   "file_extension": ".py",
   "mimetype": "text/x-python",
   "name": "python",
   "nbconvert_exporter": "python",
   "pygments_lexer": "ipython3",
   "version": "3.7.6"
  },
  "papermill": {
   "duration": 301.337704,
   "end_time": "2021-02-22T22:32:03.282502",
   "environment_variables": {},
   "exception": null,
   "input_path": "__notebook__.ipynb",
   "output_path": "__notebook__.ipynb",
   "parameters": {},
   "start_time": "2021-02-22T22:27:01.944798",
   "version": "2.1.0"
  }
 },
 "nbformat": 4,
 "nbformat_minor": 4
}
